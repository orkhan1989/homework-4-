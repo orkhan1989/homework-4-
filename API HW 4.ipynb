{
 "cells": [
  {
   "cell_type": "markdown",
   "id": "7d629e19-4d5a-437a-8968-e425173cb968",
   "metadata": {},
   "source": [
    "## Financial Planner"
   ]
  },
  {
   "cell_type": "code",
   "execution_count": null,
   "id": "04501139-3399-4863-8a63-cc66961114b0",
   "metadata": {},
   "outputs": [],
   "source": [
    "# Initial imports\n",
    "import os\n",
    "import requests\n",
    "from dotenv import load_dotenv\n",
    "import alpaca_trade_api as tradeapi\n",
    "from MCForecastTools import MCSimulation\n",
    "\n",
    "%matplotlib inline"
   ]
  },
  {
   "cell_type": "code",
   "execution_count": null,
   "id": "7b26f919-4ca8-4d06-ae18-c32239ea2be2",
   "metadata": {},
   "outputs": [],
   "source": [
    "Create two variables called my_btc and my_eth\n",
    "my_btc = 1.2\n",
    "my_eth = 5.3"
   ]
  },
  {
   "cell_type": "code",
   "execution_count": null,
   "id": "c7b3bee8-2941-49ec-9574-71986b3f046f",
   "metadata": {},
   "outputs": [],
   "source": [
    "# Crypto API URLs\n",
    "btc_url = \"https://api.alternative.me/v2/ticker/Bitcoin/?convert=CAD\"\n",
    "eth_url = \"https://api.alternative.me/v2/ticker/Ethereum/?convert=CAD\""
   ]
  },
  {
   "cell_type": "code",
   "execution_count": null,
   "id": "80109d83-6c3d-41d6-8487-b0d44612022c",
   "metadata": {},
   "outputs": [],
   "source": [
    "import requests"
   ]
  },
  {
   "cell_type": "code",
   "execution_count": null,
   "id": "e2adba3d-ee45-458c-96d1-ddbd3b63cbf7",
   "metadata": {},
   "outputs": [],
   "source": []
  },
  {
   "cell_type": "code",
   "execution_count": null,
   "id": "63d57527-23c6-4811-b680-ba4214d59f67",
   "metadata": {},
   "outputs": [],
   "source": []
  },
  {
   "cell_type": "markdown",
   "id": "fefcd415-431c-43e0-8083-c0b511f5d430",
   "metadata": {},
   "source": [
    "## PARSE API JSON RESPONSE AND SELECT ONLY CRYPTO PRICES FOR BITCOIN"
   ]
  },
  {
   "cell_type": "code",
   "execution_count": null,
   "id": "72df265e-6ff4-4cdf-8cbe-34c6b93bf5cc",
   "metadata": {},
   "outputs": [],
   "source": []
  },
  {
   "cell_type": "code",
   "execution_count": 2,
   "id": "041a166c-6ba0-488e-960e-83d91916c0fb",
   "metadata": {},
   "outputs": [
    {
     "data": {
      "text/plain": [
       "{'data': {'1': {'id': 1,\n",
       "   'name': 'Bitcoin',\n",
       "   'symbol': 'BTC',\n",
       "   'website_slug': 'bitcoin',\n",
       "   'rank': 1,\n",
       "   'circulating_supply': 18889606,\n",
       "   'total_supply': 18889606,\n",
       "   'max_supply': 21000000,\n",
       "   'quotes': {'USD': {'price': 56491.0,\n",
       "     'volume_24h': 34870004197,\n",
       "     'market_cap': 1063191158631,\n",
       "     'percentage_change_1h': 0.42973389887521,\n",
       "     'percentage_change_24h': -0.0311241854124715,\n",
       "     'percentage_change_7d': -4.08662405902513,\n",
       "     'percent_change_1h': 0.42973389887521,\n",
       "     'percent_change_24h': -0.0311241854124715,\n",
       "     'percent_change_7d': -4.08662405902513},\n",
       "    'CAD': {'price': 72421.462,\n",
       "     'volume_24h': 44703345380.554,\n",
       "     'market_cap': 1363011065364.94,\n",
       "     'percent_change_1h': 0.42973389887521,\n",
       "     'percent_change_24h': -0.0311241854124715,\n",
       "     'percent_change_7d': -4.08662405902513}},\n",
       "   'last_updated': 1638504838}},\n",
       " 'metadata': {'timestamp': 1638504838,\n",
       "  'num_cryptocurrencies': 3105,\n",
       "  'error': None}}"
      ]
     },
     "execution_count": 2,
     "metadata": {},
     "output_type": "execute_result"
    }
   ],
   "source": [
    "btc_url = \"https://api.alternative.me/v2/ticker/Bitcoin/?convert=CAD\"\n",
    "btc_response = requests.get(btc_url).json()\n",
    "btc_response"
   ]
  },
  {
   "cell_type": "code",
   "execution_count": 3,
   "id": "9b3a7573-6074-4b6c-a1e3-540a7972b187",
   "metadata": {},
   "outputs": [
    {
     "data": {
      "text/plain": [
       "{'1': {'id': 1,\n",
       "  'name': 'Bitcoin',\n",
       "  'symbol': 'BTC',\n",
       "  'website_slug': 'bitcoin',\n",
       "  'rank': 1,\n",
       "  'circulating_supply': 18889606,\n",
       "  'total_supply': 18889606,\n",
       "  'max_supply': 21000000,\n",
       "  'quotes': {'USD': {'price': 56491.0,\n",
       "    'volume_24h': 34870004197,\n",
       "    'market_cap': 1063191158631,\n",
       "    'percentage_change_1h': 0.42973389887521,\n",
       "    'percentage_change_24h': -0.0311241854124715,\n",
       "    'percentage_change_7d': -4.08662405902513,\n",
       "    'percent_change_1h': 0.42973389887521,\n",
       "    'percent_change_24h': -0.0311241854124715,\n",
       "    'percent_change_7d': -4.08662405902513},\n",
       "   'CAD': {'price': 72421.462,\n",
       "    'volume_24h': 44703345380.554,\n",
       "    'market_cap': 1363011065364.94,\n",
       "    'percent_change_1h': 0.42973389887521,\n",
       "    'percent_change_24h': -0.0311241854124715,\n",
       "    'percent_change_7d': -4.08662405902513}},\n",
       "  'last_updated': 1638504838}}"
      ]
     },
     "execution_count": 3,
     "metadata": {},
     "output_type": "execute_result"
    }
   ],
   "source": [
    "btc_response['data']"
   ]
  },
  {
   "cell_type": "code",
   "execution_count": 4,
   "id": "a7c6a97c-d312-4aa1-8646-675c4ed4c5d3",
   "metadata": {},
   "outputs": [
    {
     "data": {
      "text/plain": [
       "{'id': 1,\n",
       " 'name': 'Bitcoin',\n",
       " 'symbol': 'BTC',\n",
       " 'website_slug': 'bitcoin',\n",
       " 'rank': 1,\n",
       " 'circulating_supply': 18889606,\n",
       " 'total_supply': 18889606,\n",
       " 'max_supply': 21000000,\n",
       " 'quotes': {'USD': {'price': 56491.0,\n",
       "   'volume_24h': 34870004197,\n",
       "   'market_cap': 1063191158631,\n",
       "   'percentage_change_1h': 0.42973389887521,\n",
       "   'percentage_change_24h': -0.0311241854124715,\n",
       "   'percentage_change_7d': -4.08662405902513,\n",
       "   'percent_change_1h': 0.42973389887521,\n",
       "   'percent_change_24h': -0.0311241854124715,\n",
       "   'percent_change_7d': -4.08662405902513},\n",
       "  'CAD': {'price': 72421.462,\n",
       "   'volume_24h': 44703345380.554,\n",
       "   'market_cap': 1363011065364.94,\n",
       "   'percent_change_1h': 0.42973389887521,\n",
       "   'percent_change_24h': -0.0311241854124715,\n",
       "   'percent_change_7d': -4.08662405902513}},\n",
       " 'last_updated': 1638504838}"
      ]
     },
     "execution_count": 4,
     "metadata": {},
     "output_type": "execute_result"
    }
   ],
   "source": [
    "btc_response['data']['1']"
   ]
  },
  {
   "cell_type": "code",
   "execution_count": 5,
   "id": "c6ea5172-3bbe-45e9-9d30-2c0a35d2fa1f",
   "metadata": {},
   "outputs": [
    {
     "data": {
      "text/plain": [
       "{'USD': {'price': 56491.0,\n",
       "  'volume_24h': 34870004197,\n",
       "  'market_cap': 1063191158631,\n",
       "  'percentage_change_1h': 0.42973389887521,\n",
       "  'percentage_change_24h': -0.0311241854124715,\n",
       "  'percentage_change_7d': -4.08662405902513,\n",
       "  'percent_change_1h': 0.42973389887521,\n",
       "  'percent_change_24h': -0.0311241854124715,\n",
       "  'percent_change_7d': -4.08662405902513},\n",
       " 'CAD': {'price': 72421.462,\n",
       "  'volume_24h': 44703345380.554,\n",
       "  'market_cap': 1363011065364.94,\n",
       "  'percent_change_1h': 0.42973389887521,\n",
       "  'percent_change_24h': -0.0311241854124715,\n",
       "  'percent_change_7d': -4.08662405902513}}"
      ]
     },
     "execution_count": 5,
     "metadata": {},
     "output_type": "execute_result"
    }
   ],
   "source": [
    "btc_response['data']['1']['quotes']"
   ]
  },
  {
   "cell_type": "code",
   "execution_count": 6,
   "id": "57c9e03e-34b1-4ac1-a0e5-32d778d2343f",
   "metadata": {},
   "outputs": [
    {
     "data": {
      "text/plain": [
       "{'price': 72421.462,\n",
       " 'volume_24h': 44703345380.554,\n",
       " 'market_cap': 1363011065364.94,\n",
       " 'percent_change_1h': 0.42973389887521,\n",
       " 'percent_change_24h': -0.0311241854124715,\n",
       " 'percent_change_7d': -4.08662405902513}"
      ]
     },
     "execution_count": 6,
     "metadata": {},
     "output_type": "execute_result"
    }
   ],
   "source": [
    "btc_response['data']['1']['quotes']['CAD']"
   ]
  },
  {
   "cell_type": "code",
   "execution_count": 7,
   "id": "e37efb0e-9ef5-45a1-9d3a-73cef246decc",
   "metadata": {},
   "outputs": [
    {
     "data": {
      "text/plain": [
       "72421.462"
      ]
     },
     "execution_count": 7,
     "metadata": {},
     "output_type": "execute_result"
    }
   ],
   "source": [
    "btc_response['data']['1']['quotes']['CAD']['price']"
   ]
  },
  {
   "cell_type": "code",
   "execution_count": 9,
   "id": "f87f675c-2cce-47e9-a704-a4aab09d6e5e",
   "metadata": {},
   "outputs": [
    {
     "data": {
      "text/plain": [
       "72421.462"
      ]
     },
     "execution_count": 9,
     "metadata": {},
     "output_type": "execute_result"
    }
   ],
   "source": [
    "# Current BITCOIN price \n",
    "btc_price = btc_response['data']['1']['quotes']['CAD']['price']\n",
    "btc_price"
   ]
  },
  {
   "cell_type": "markdown",
   "id": "7d58731d-d234-4fd5-b956-c6017ef19494",
   "metadata": {},
   "source": [
    "# PARSE API JSON RESPONSE AND SELECT ONLY CRYPTO PRICES FOR ETHERIUM"
   ]
  },
  {
   "cell_type": "code",
   "execution_count": 10,
   "id": "cfab310d-66e0-432a-ba75-a7e538fe45be",
   "metadata": {},
   "outputs": [
    {
     "data": {
      "text/plain": [
       "{'data': {'1027': {'id': 1027,\n",
       "   'name': 'Ethereum',\n",
       "   'symbol': 'ETH',\n",
       "   'website_slug': 'ethereum',\n",
       "   'rank': 2,\n",
       "   'circulating_supply': 118584704,\n",
       "   'total_supply': 118584704,\n",
       "   'max_supply': 0,\n",
       "   'quotes': {'USD': {'price': 4532.04,\n",
       "     'volume_24h': 20594084864,\n",
       "     'market_cap': 537059098278,\n",
       "     'percentage_change_1h': 0.799870759588877,\n",
       "     'percentage_change_24h': 0.0745152959092478,\n",
       "     'percentage_change_7d': 0.358717915483411,\n",
       "     'percent_change_1h': 0.799870759588877,\n",
       "     'percent_change_24h': 0.0745152959092478,\n",
       "     'percent_change_7d': 0.358717915483411},\n",
       "    'CAD': {'price': 5810.07528,\n",
       "     'volume_24h': 26401616795.648,\n",
       "     'market_cap': 688509763992.396,\n",
       "     'percent_change_1h': 0.799870759588877,\n",
       "     'percent_change_24h': 0.0745152959092478,\n",
       "     'percent_change_7d': 0.358717915483411}},\n",
       "   'last_updated': 1638505929}},\n",
       " 'metadata': {'timestamp': 1638505929,\n",
       "  'num_cryptocurrencies': 3105,\n",
       "  'error': None}}"
      ]
     },
     "execution_count": 10,
     "metadata": {},
     "output_type": "execute_result"
    }
   ],
   "source": [
    "eth_url = \"https://api.alternative.me/v2/ticker/Ethereum/?convert=CAD\"\n",
    "eth_response = requests.get(eth_url).json()\n",
    "eth_response"
   ]
  },
  {
   "cell_type": "code",
   "execution_count": 11,
   "id": "6633b4af-efa2-422f-b577-b76e792769b2",
   "metadata": {},
   "outputs": [
    {
     "data": {
      "text/plain": [
       "{'1027': {'id': 1027,\n",
       "  'name': 'Ethereum',\n",
       "  'symbol': 'ETH',\n",
       "  'website_slug': 'ethereum',\n",
       "  'rank': 2,\n",
       "  'circulating_supply': 118584704,\n",
       "  'total_supply': 118584704,\n",
       "  'max_supply': 0,\n",
       "  'quotes': {'USD': {'price': 4532.04,\n",
       "    'volume_24h': 20594084864,\n",
       "    'market_cap': 537059098278,\n",
       "    'percentage_change_1h': 0.799870759588877,\n",
       "    'percentage_change_24h': 0.0745152959092478,\n",
       "    'percentage_change_7d': 0.358717915483411,\n",
       "    'percent_change_1h': 0.799870759588877,\n",
       "    'percent_change_24h': 0.0745152959092478,\n",
       "    'percent_change_7d': 0.358717915483411},\n",
       "   'CAD': {'price': 5810.07528,\n",
       "    'volume_24h': 26401616795.648,\n",
       "    'market_cap': 688509763992.396,\n",
       "    'percent_change_1h': 0.799870759588877,\n",
       "    'percent_change_24h': 0.0745152959092478,\n",
       "    'percent_change_7d': 0.358717915483411}},\n",
       "  'last_updated': 1638505929}}"
      ]
     },
     "execution_count": 11,
     "metadata": {},
     "output_type": "execute_result"
    }
   ],
   "source": [
    "eth_response['data']"
   ]
  },
  {
   "cell_type": "code",
   "execution_count": 12,
   "id": "32389dac-c157-49e4-9cfc-21aace9b36d3",
   "metadata": {},
   "outputs": [
    {
     "data": {
      "text/plain": [
       "{'id': 1027,\n",
       " 'name': 'Ethereum',\n",
       " 'symbol': 'ETH',\n",
       " 'website_slug': 'ethereum',\n",
       " 'rank': 2,\n",
       " 'circulating_supply': 118584704,\n",
       " 'total_supply': 118584704,\n",
       " 'max_supply': 0,\n",
       " 'quotes': {'USD': {'price': 4532.04,\n",
       "   'volume_24h': 20594084864,\n",
       "   'market_cap': 537059098278,\n",
       "   'percentage_change_1h': 0.799870759588877,\n",
       "   'percentage_change_24h': 0.0745152959092478,\n",
       "   'percentage_change_7d': 0.358717915483411,\n",
       "   'percent_change_1h': 0.799870759588877,\n",
       "   'percent_change_24h': 0.0745152959092478,\n",
       "   'percent_change_7d': 0.358717915483411},\n",
       "  'CAD': {'price': 5810.07528,\n",
       "   'volume_24h': 26401616795.648,\n",
       "   'market_cap': 688509763992.396,\n",
       "   'percent_change_1h': 0.799870759588877,\n",
       "   'percent_change_24h': 0.0745152959092478,\n",
       "   'percent_change_7d': 0.358717915483411}},\n",
       " 'last_updated': 1638505929}"
      ]
     },
     "execution_count": 12,
     "metadata": {},
     "output_type": "execute_result"
    }
   ],
   "source": [
    "eth_response['data']['1027']"
   ]
  },
  {
   "cell_type": "code",
   "execution_count": 13,
   "id": "41326318-bb8f-45f0-b350-641af36b2fb6",
   "metadata": {},
   "outputs": [
    {
     "data": {
      "text/plain": [
       "{'USD': {'price': 4532.04,\n",
       "  'volume_24h': 20594084864,\n",
       "  'market_cap': 537059098278,\n",
       "  'percentage_change_1h': 0.799870759588877,\n",
       "  'percentage_change_24h': 0.0745152959092478,\n",
       "  'percentage_change_7d': 0.358717915483411,\n",
       "  'percent_change_1h': 0.799870759588877,\n",
       "  'percent_change_24h': 0.0745152959092478,\n",
       "  'percent_change_7d': 0.358717915483411},\n",
       " 'CAD': {'price': 5810.07528,\n",
       "  'volume_24h': 26401616795.648,\n",
       "  'market_cap': 688509763992.396,\n",
       "  'percent_change_1h': 0.799870759588877,\n",
       "  'percent_change_24h': 0.0745152959092478,\n",
       "  'percent_change_7d': 0.358717915483411}}"
      ]
     },
     "execution_count": 13,
     "metadata": {},
     "output_type": "execute_result"
    }
   ],
   "source": [
    "eth_response['data']['1027']['quotes']"
   ]
  },
  {
   "cell_type": "code",
   "execution_count": 14,
   "id": "0d77cfbb-efa4-4600-9a40-54fa03ac57d1",
   "metadata": {},
   "outputs": [
    {
     "data": {
      "text/plain": [
       "{'price': 5810.07528,\n",
       " 'volume_24h': 26401616795.648,\n",
       " 'market_cap': 688509763992.396,\n",
       " 'percent_change_1h': 0.799870759588877,\n",
       " 'percent_change_24h': 0.0745152959092478,\n",
       " 'percent_change_7d': 0.358717915483411}"
      ]
     },
     "execution_count": 14,
     "metadata": {},
     "output_type": "execute_result"
    }
   ],
   "source": [
    "eth_response['data']['1027']['quotes']['CAD']"
   ]
  },
  {
   "cell_type": "code",
   "execution_count": 15,
   "id": "19ad5b25-639f-4c53-931e-afeab167569e",
   "metadata": {},
   "outputs": [
    {
     "data": {
      "text/plain": [
       "5810.07528"
      ]
     },
     "execution_count": 15,
     "metadata": {},
     "output_type": "execute_result"
    }
   ],
   "source": [
    "eth_response['data']['1027']['quotes']['CAD']['price']"
   ]
  },
  {
   "cell_type": "code",
   "execution_count": 17,
   "id": "a748b263-8542-410a-9e0b-506399ea418a",
   "metadata": {},
   "outputs": [
    {
     "data": {
      "text/plain": [
       "5810.07528"
      ]
     },
     "execution_count": 17,
     "metadata": {},
     "output_type": "execute_result"
    }
   ],
   "source": [
    "# Current etherium price \n",
    "eth_price = eth_response['data']['1027']['quotes']['CAD']['price']\n",
    "eth_price"
   ]
  },
  {
   "cell_type": "code",
   "execution_count": null,
   "id": "1308c756-f101-4d47-bb6c-7779fadcb2b5",
   "metadata": {},
   "outputs": [],
   "source": []
  },
  {
   "cell_type": "code",
   "execution_count": null,
   "id": "eb067eee-b6d5-465c-8559-b3bfa8eecc67",
   "metadata": {},
   "outputs": [],
   "source": []
  },
  {
   "cell_type": "code",
   "execution_count": null,
   "id": "10c22b9c-528d-4ccc-873e-afd5ea30f14e",
   "metadata": {},
   "outputs": [],
   "source": [
    "#  current BTC price\n",
    "72421.462\n",
    "\n",
    "# Fetch current ETH price\n",
    "5810.07528\n",
    "\n",
    "# Compute current value of my crpto\n",
    "# YOUR CODE HERE!\n",
    "\n",
    "# Print current crypto wallet balance\n",
    "print(f\"The current value of your {my_btc} BTC is ${my_btc_value:0.2f}\")\n",
    "print(f\"The current value of your {my_eth} ETH is ${my_eth_value:0.2f}\")"
   ]
  },
  {
   "cell_type": "code",
   "execution_count": null,
   "id": "0b230b65-3ac0-4cc4-8b30-79358d04e077",
   "metadata": {},
   "outputs": [],
   "source": []
  },
  {
   "cell_type": "code",
   "execution_count": null,
   "id": "99f89b74-10c4-4a62-8e74-b65d6d5de557",
   "metadata": {},
   "outputs": [],
   "source": []
  },
  {
   "cell_type": "code",
   "execution_count": null,
   "id": "efe9985c-2030-4773-a3c0-02bb92fbac9e",
   "metadata": {},
   "outputs": [],
   "source": []
  },
  {
   "cell_type": "markdown",
   "id": "3b3da149-3612-40b8-9c86-eb48e0266825",
   "metadata": {},
   "source": [
    "## Collect Investments Data Using Alpaca: `SPY` (stocks) and `AGG` (bonds)"
   ]
  },
  {
   "cell_type": "code",
   "execution_count": null,
   "id": "61272f25-9b95-4557-b502-061093674cf8",
   "metadata": {},
   "outputs": [],
   "source": [
    "# Current amount of shares\n",
    "my_agg = 200\n",
    "my_spy = 50"
   ]
  },
  {
   "cell_type": "code",
   "execution_count": null,
   "id": "88ebc54e-7841-4e49-994a-586adfb03574",
   "metadata": {},
   "outputs": [],
   "source": [
    "# Set Alpaca API key and secret\n",
    "alpaca_api_key = os.getenv(\"ALPACA_API_KEY\")\n",
    "alpaca_secret_key = os.getenv(\"ALPACA_SECRET_KEY\")"
   ]
  },
  {
   "cell_type": "code",
   "execution_count": 1,
   "id": "b8c7b49b-4203-4cd8-928f-a7f6f3434467",
   "metadata": {},
   "outputs": [
    {
     "ename": "NameError",
     "evalue": "name 'alpaca_api_key' is not defined",
     "output_type": "error",
     "traceback": [
      "\u001b[1;31m---------------------------------------------------------------------------\u001b[0m",
      "\u001b[1;31mNameError\u001b[0m                                 Traceback (most recent call last)",
      "\u001b[1;32m~\\AppData\\Local\\Temp/ipykernel_18968/3625036582.py\u001b[0m in \u001b[0;36m<module>\u001b[1;34m\u001b[0m\n\u001b[0;32m      1\u001b[0m \u001b[1;31m# Verify that Alpaca key and secret were correctly loaded\u001b[0m\u001b[1;33m\u001b[0m\u001b[1;33m\u001b[0m\u001b[1;33m\u001b[0m\u001b[0m\n\u001b[1;32m----> 2\u001b[1;33m \u001b[0mprint\u001b[0m\u001b[1;33m(\u001b[0m\u001b[1;34mf\"Alpaca Key type: {type(alpaca_api_key)}\"\u001b[0m\u001b[1;33m)\u001b[0m\u001b[1;33m\u001b[0m\u001b[1;33m\u001b[0m\u001b[0m\n\u001b[0m\u001b[0;32m      3\u001b[0m \u001b[0mprint\u001b[0m\u001b[1;33m(\u001b[0m\u001b[1;34mf\"Alpaca Secret Key type: {type(alpaca_secret_key)}\"\u001b[0m\u001b[1;33m)\u001b[0m\u001b[1;33m\u001b[0m\u001b[1;33m\u001b[0m\u001b[0m\n",
      "\u001b[1;31mNameError\u001b[0m: name 'alpaca_api_key' is not defined"
     ]
    }
   ],
   "source": [
    "# Verify that Alpaca key and secret were correctly loaded\n",
    "print(f\"Alpaca Key type: {type(alpaca_api_key)}\")\n",
    "print(f\"Alpaca Secret Key type: {type(alpaca_secret_key)}\")"
   ]
  },
  {
   "cell_type": "code",
   "execution_count": null,
   "id": "b581b648-15af-42ac-8f2d-c797b51dda25",
   "metadata": {},
   "outputs": [],
   "source": [
    "# Create the Alpaca API object\n",
    "# YOUR CODE HEREE"
   ]
  },
  {
   "cell_type": "code",
   "execution_count": null,
   "id": "ce270ea1-51a9-47ee-a60b-09fbd8122fac",
   "metadata": {},
   "outputs": [],
   "source": [
    "# Format current date as ISO format\n",
    "today = pd.Timestamp(\"2021-12-02\", tz=\"US&CANADA\").isoformat()\n",
    "\n",
    "# Set the tickers\n",
    "tickers = [\"AGG\", \"SPY\"]\n",
    "\n",
    "# Set timeframe to '1D' for Alpaca API\n",
    "timeframe = \"1D\"\n",
    "\n",
    "# Get current closing prices for SPY and AGG\n",
    "\n",
    "\n",
    "# Preview DataFrame\n",
    "# YOUR CODE HERE!"
   ]
  },
  {
   "cell_type": "code",
   "execution_count": null,
   "id": "90e16d67-c891-4984-a646-8e1c8ce0b7e5",
   "metadata": {},
   "outputs": [],
   "source": [
    "# Pick AGG and SPY close prices\n",
    "# YOUR CODE HERE!\n",
    "\n",
    "# Print AGG and SPY close prices\n",
    "print(f\"Current AGG closing price: ${agg_close_price}\")\n",
    "print(f\"Current SPY closing price: ${spy_close_price}\")"
   ]
  },
  {
   "cell_type": "code",
   "execution_count": null,
   "id": "b2c45ce6-a184-48ac-8b3d-6bf3c1d919ed",
   "metadata": {},
   "outputs": [],
   "source": []
  }
 ],
 "metadata": {
  "kernelspec": {
   "display_name": "Python 3 (ipykernel)",
   "language": "python",
   "name": "python3"
  },
  "language_info": {
   "codemirror_mode": {
    "name": "ipython",
    "version": 3
   },
   "file_extension": ".py",
   "mimetype": "text/x-python",
   "name": "python",
   "nbconvert_exporter": "python",
   "pygments_lexer": "ipython3",
   "version": "3.7.11"
  }
 },
 "nbformat": 4,
 "nbformat_minor": 5
}
